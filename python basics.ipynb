{
 "cells": [
  {
   "cell_type": "code",
   "execution_count": 49,
   "metadata": {},
   "outputs": [
    {
     "name": "stdout",
     "output_type": "stream",
     "text": [
      "hello\n"
     ]
    }
   ],
   "source": [
    "print (\"hello\")"
   ]
  },
  {
   "cell_type": "code",
   "execution_count": 2,
   "metadata": {},
   "outputs": [
    {
     "name": "stdout",
     "output_type": "stream",
     "text": [
      "a\n"
     ]
    }
   ],
   "source": [
    "a=40\n",
    "print (\"a\")\n"
   ]
  },
  {
   "cell_type": "code",
   "execution_count": 3,
   "metadata": {},
   "outputs": [
    {
     "name": "stdout",
     "output_type": "stream",
     "text": [
      "4\n"
     ]
    }
   ],
   "source": [
    "a=4\n",
    "print(a)"
   ]
  },
  {
   "cell_type": "code",
   "execution_count": 4,
   "metadata": {},
   "outputs": [
    {
     "ename": "NameError",
     "evalue": "name 'h' is not defined",
     "output_type": "error",
     "traceback": [
      "\u001b[0;31m---------------------------------------------------------------------------\u001b[0m",
      "\u001b[0;31mNameError\u001b[0m                                 Traceback (most recent call last)",
      "\u001b[0;32m<ipython-input-4-569b33bf2f3f>\u001b[0m in \u001b[0;36m<module>\u001b[0;34m\u001b[0m\n\u001b[0;32m----> 1\u001b[0;31m \u001b[0mprint\u001b[0m\u001b[0;34m(\u001b[0m\u001b[0mh\u001b[0m\u001b[0;34m)\u001b[0m\u001b[0;34m\u001b[0m\u001b[0;34m\u001b[0m\u001b[0m\n\u001b[0m",
      "\u001b[0;31mNameError\u001b[0m: name 'h' is not defined"
     ]
    }
   ],
   "source": [
    "print(h)"
   ]
  },
  {
   "cell_type": "code",
   "execution_count": 14,
   "metadata": {},
   "outputs": [
    {
     "name": "stdout",
     "output_type": "stream",
     "text": [
      "6\n"
     ]
    }
   ],
   "source": [
    "a\n",
    "b\n",
    "\n",
    "print(a+b)\n"
   ]
  },
  {
   "cell_type": "code",
   "execution_count": 11,
   "metadata": {},
   "outputs": [
    {
     "name": "stdout",
     "output_type": "stream",
     "text": [
      "6\n"
     ]
    }
   ],
   "source": [
    "a=2\n",
    "b=4\n",
    "print(a+b)\n",
    "\n",
    "\n",
    "\n"
   ]
  },
  {
   "cell_type": "code",
   "execution_count": null,
   "metadata": {},
   "outputs": [],
   "source": []
  },
  {
   "cell_type": "code",
   "execution_count": 15,
   "metadata": {},
   "outputs": [
    {
     "name": "stdout",
     "output_type": "stream",
     "text": [
      "8\n"
     ]
    }
   ],
   "source": [
    "a\n",
    "b\n",
    "print(a*b)"
   ]
  },
  {
   "cell_type": "code",
   "execution_count": 16,
   "metadata": {},
   "outputs": [
    {
     "name": "stdout",
     "output_type": "stream",
     "text": [
      "0.5\n"
     ]
    }
   ],
   "source": [
    "print(a/b)"
   ]
  },
  {
   "cell_type": "code",
   "execution_count": 17,
   "metadata": {},
   "outputs": [
    {
     "name": "stdout",
     "output_type": "stream",
     "text": [
      "2\n"
     ]
    }
   ],
   "source": [
    "print(a%b)"
   ]
  },
  {
   "cell_type": "code",
   "execution_count": 18,
   "metadata": {},
   "outputs": [
    {
     "name": "stdout",
     "output_type": "stream",
     "text": [
      "6\n"
     ]
    }
   ],
   "source": [
    "sum=a+b\n",
    "print(sum)"
   ]
  },
  {
   "cell_type": "code",
   "execution_count": 19,
   "metadata": {},
   "outputs": [
    {
     "name": "stdout",
     "output_type": "stream",
     "text": [
      "0\n"
     ]
    }
   ],
   "source": [
    "a\n",
    "res=a%2\n",
    "print(res)"
   ]
  },
  {
   "cell_type": "code",
   "execution_count": 20,
   "metadata": {},
   "outputs": [
    {
     "name": "stdout",
     "output_type": "stream",
     "text": [
      "1.0\n"
     ]
    }
   ],
   "source": [
    "res=a/2\n",
    "print(res)"
   ]
  },
  {
   "cell_type": "code",
   "execution_count": 21,
   "metadata": {},
   "outputs": [
    {
     "name": "stdout",
     "output_type": "stream",
     "text": [
      "1\n"
     ]
    }
   ],
   "source": [
    "res=a//2\n",
    "print(res)"
   ]
  },
  {
   "cell_type": "code",
   "execution_count": 22,
   "metadata": {},
   "outputs": [
    {
     "name": "stdout",
     "output_type": "stream",
     "text": [
      "True\n"
     ]
    }
   ],
   "source": [
    "res=a==2\n",
    "print(res)"
   ]
  },
  {
   "cell_type": "code",
   "execution_count": 24,
   "metadata": {},
   "outputs": [
    {
     "name": "stdout",
     "output_type": "stream",
     "text": [
      "hello\n"
     ]
    }
   ],
   "source": [
    "print ('hello')"
   ]
  },
  {
   "cell_type": "code",
   "execution_count": 36,
   "metadata": {},
   "outputs": [
    {
     "name": "stdout",
     "output_type": "stream",
     "text": [
      "bye\n"
     ]
    }
   ],
   "source": [
    "x=10\n",
    "if(x>15):\n",
    "    print(\"hello\")\n",
    "else:\n",
    "    print(\"bye\")"
   ]
  },
  {
   "cell_type": "markdown",
   "metadata": {},
   "source": [
    "# "
   ]
  },
  {
   "cell_type": "code",
   "execution_count": 37,
   "metadata": {},
   "outputs": [
    {
     "data": {
      "text/plain": [
       "100"
      ]
     },
     "execution_count": 37,
     "metadata": {},
     "output_type": "execute_result"
    }
   ],
   "source": [
    "99+1"
   ]
  },
  {
   "cell_type": "code",
   "execution_count": 39,
   "metadata": {},
   "outputs": [
    {
     "name": "stdout",
     "output_type": "stream",
     "text": [
      "y is grater number\n"
     ]
    }
   ],
   "source": [
    "x=10;\n",
    "y=20\n",
    "if(x>y):\n",
    "    print(\"x is grater number \")\n",
    "else:\n",
    "    print(\"y is grater number\")"
   ]
  },
  {
   "cell_type": "code",
   "execution_count": 40,
   "metadata": {},
   "outputs": [
    {
     "name": "stdout",
     "output_type": "stream",
     "text": [
      "200\n"
     ]
    }
   ],
   "source": [
    "x=10\n",
    "y=20\n",
    "if(x==y):\n",
    "    print(x**x)\n",
    "else:\n",
    "    print(x*y)"
   ]
  },
  {
   "cell_type": "code",
   "execution_count": 45,
   "metadata": {},
   "outputs": [
    {
     "name": "stdout",
     "output_type": "stream",
     "text": [
      "it is a zero\n"
     ]
    }
   ],
   "source": [
    "x=0;\n",
    "if(x<0):\n",
    "    print(\"it is a negative number \")\n",
    "elif(x>0):\n",
    "    print(\"it is a positive number \")\n",
    "elif(x==0):\n",
    "    print(\"it is a zero\")"
   ]
  },
  {
   "cell_type": "code",
   "execution_count": 47,
   "metadata": {},
   "outputs": [
    {
     "name": "stdout",
     "output_type": "stream",
     "text": [
      "1\n",
      "2\n",
      "3\n",
      "4\n",
      "5\n",
      "6\n",
      "7\n",
      "8\n",
      "9\n",
      "10\n"
     ]
    }
   ],
   "source": [
    "n=1;\n",
    "while(n<=10):\n",
    "    print(n)\n",
    "    n=n+1;"
   ]
  },
  {
   "cell_type": "code",
   "execution_count": null,
   "metadata": {},
   "outputs": [],
   "source": [
    "n=10;\n",
    "while(n>=1):\n",
    "    print(n)\n",
    "    n=n-1;"
   ]
  },
  {
   "cell_type": "code",
   "execution_count": null,
   "metadata": {},
   "outputs": [],
   "source": [
    "n=10;\n",
    "while(n>=1):\n",
    "    print(n)\n",
    "    n=n-1;"
   ]
  },
  {
   "cell_type": "code",
   "execution_count": null,
   "metadata": {},
   "outputs": [],
   "source": []
  },
  {
   "cell_type": "code",
   "execution_count": null,
   "metadata": {},
   "outputs": [],
   "source": [
    "n=-22;\n",
    "p=-45;\n",
    "while(n>=p):\n",
    "     p=p-1;\n",
    "    print(p)\n",
    "   \n",
    "    \n",
    "    "
   ]
  },
  {
   "cell_type": "code",
   "execution_count": null,
   "metadata": {},
   "outputs": [],
   "source": []
  },
  {
   "cell_type": "code",
   "execution_count": null,
   "metadata": {},
   "outputs": [],
   "source": []
  },
  {
   "cell_type": "code",
   "execution_count": null,
   "metadata": {},
   "outputs": [],
   "source": []
  },
  {
   "cell_type": "code",
   "execution_count": null,
   "metadata": {},
   "outputs": [],
   "source": []
  },
  {
   "cell_type": "code",
   "execution_count": null,
   "metadata": {},
   "outputs": [],
   "source": []
  },
  {
   "cell_type": "code",
   "execution_count": null,
   "metadata": {},
   "outputs": [],
   "source": []
  },
  {
   "cell_type": "code",
   "execution_count": null,
   "metadata": {},
   "outputs": [],
   "source": [
    "V"
   ]
  },
  {
   "cell_type": "code",
   "execution_count": null,
   "metadata": {},
   "outputs": [],
   "source": [
    "n=-22;\n",
    "p=-45;\n",
    "while(n>=p):\n",
    "     p=p-1;\n",
    "    print(p)\n",
    "   \n",
    "    "
   ]
  },
  {
   "cell_type": "code",
   "execution_count": null,
   "metadata": {},
   "outputs": [],
   "source": [
    "digit=int(input(\"enter a number \"))\n",
    "11=int(input(enter lower limit));\n",
    "12=int(input(enter upper limit));\n",
    "count=0;\n",
    "while(11!=12):\n",
    "buffer=11;\n",
    "while(11!=0):\n",
    "    r=11%10;\n",
    "    if (r=digit):\n",
    "        count = count+1;\n",
    "        11=11//10;\n",
    "        11=buffer;\n",
    "        11=11+1;\n",
    "        print(count);\n",
    "         "
   ]
  },
  {
   "cell_type": "code",
   "execution_count": null,
   "metadata": {},
   "outputs": [],
   "source": [
    "def printnaturalnumbers(n);\n",
    "count=1;\n",
    "while(count<=n):\n",
    "    print(count,end=\" \");\n",
    "    count=count+1;\n",
    "    print()\n",
    "    return\n",
    "    printnaturalnumbers(9)\n",
    "    printnaturalnumber()"
   ]
  },
  {
   "cell_type": "code",
   "execution_count": null,
   "metadata": {},
   "outputs": [],
   "source": [
    "def findfact(n):\n",
    "    fact=1;\n",
    "    while(n!=0):\n",
    "        fact =fact*n;\n",
    "        n=n-1;\n",
    "        return fact;\n",
    "    print(findfact(5));\n",
    "    print(findfact(10));\n",
    "    print(findfact(15));IWhat \n",
    "    "
   ]
  },
  {
   "cell_type": "code",
   "execution_count": 10,
   "metadata": {},
   "outputs": [
    {
     "name": "stdout",
     "output_type": "stream",
     "text": [
      "90\n"
     ]
    }
   ],
   "source": [
    "def printeven(n):\n",
    "    count=0;\n",
    "    sum=0;\n",
    "    while(count!=n):\n",
    "        if(count%2==0):\n",
    "                sum=sum+count;\n",
    "        count=count+1;\n",
    "    return sum;\n",
    "print(printeven(20))\n",
    "            "
   ]
  },
  {
   "cell_type": "code",
   "execution_count": 9,
   "metadata": {},
   "outputs": [
    {
     "name": "stdout",
     "output_type": "stream",
     "text": [
      "1 2 3 4 6 "
     ]
    }
   ],
   "source": [
    "def factorslist(n):\n",
    "    i=1;\n",
    "    while(i!=n):\n",
    "        if(n%i==0):\n",
    "            print(i,end=\" \");\n",
    "        i=i+1;\n",
    "    return;\n",
    "        \n",
    "factorslist(12);\n",
    "        "
   ]
  },
  {
   "cell_type": "code",
   "execution_count": 12,
   "metadata": {},
   "outputs": [
    {
     "name": "stdout",
     "output_type": "stream",
     "text": [
      "[1, 2, 3, 4, 5]\n",
      "1\n"
     ]
    }
   ],
   "source": [
    "list1=[1,2,3,4,5];\n",
    "print(list)\n",
    "print(list1[0])"
   ]
  },
  {
   "cell_type": "code",
   "execution_count": 13,
   "metadata": {},
   "outputs": [
    {
     "name": "stdout",
     "output_type": "stream",
     "text": [
      "praveen sandeep shanmugam ufhvebv "
     ]
    }
   ],
   "source": [
    "list2=['praveen','sandeep','shanmugam','ufhvebv'];\n",
    "for x in list2:\n",
    "    print(x,end=\" \")"
   ]
  },
  {
   "cell_type": "code",
   "execution_count": 27,
   "metadata": {},
   "outputs": [
    {
     "name": "stdout",
     "output_type": "stream",
     "text": [
      "1 2 3 4 5 6 7 \n",
      "5\n",
      "[4, 5, 6, 7]\n",
      "[1, 2, 3, 4, 5, 6, 7]\n",
      "[1, 2, 3]\n",
      "[1, 2, 3, 4, 5, 6, 7]\n"
     ]
    }
   ],
   "source": [
    "lst1=[1,2,3,4,5,6,7];\n",
    "for x in lst1:\n",
    "     print(x,end=\" \")\n",
    "        \n",
    "print()\n",
    "print(lst1[4])\n",
    "print(lst1[3:7])\n",
    "print(lst1[0:7])\n",
    "print(lst1[:3])\n",
    "print(lst1[:7])"
   ]
  },
  {
   "cell_type": "code",
   "execution_count": 43,
   "metadata": {},
   "outputs": [
    {
     "name": "stdout",
     "output_type": "stream",
     "text": [
      "1  2  3  4  5  6  7  \n",
      "5\n",
      "[3, 4, 5]\n",
      "[1, 3, 5]\n",
      "[7, 4, 1]\n",
      "[1]\n"
     ]
    }
   ],
   "source": [
    "lst1=[1,2,3,4,5,6,7];\n",
    "for x in lst1:\n",
    "     print(x,end=\"  \")\n",
    "        \n",
    "print()\n",
    "print(lst1[4])\n",
    "print(lst1[2:-2])\n",
    "print(lst1[0:5][::2])\n",
    "print(lst1[::-3])\n",
    "print(lst1[::7])"
   ]
  },
  {
   "cell_type": "code",
   "execution_count": 44,
   "metadata": {},
   "outputs": [
    {
     "name": "stdout",
     "output_type": "stream",
     "text": [
      "['praveen', 'sandeep', 'shanmugam', 'ufhvebv']\n",
      "['praveen', 'sandeep', 15, 'ufhvebv']\n",
      "['praveen', 'sandeep', 15]\n",
      "['praveen', 'gitam', 15]\n"
     ]
    }
   ],
   "source": [
    "list1=['praveen','sandeep','shanmugam','ufhvebv'];\n",
    "print(list1);\n",
    "\n",
    "list1[2]=15;\n",
    "print(list1);\n",
    "\n",
    "del  list1[3];\n",
    "print(list1);\n",
    "\n",
    "list1[1]='gitam'\n",
    "print(list1)\n",
    "\n"
   ]
  },
  {
   "cell_type": "code",
   "execution_count": 45,
   "metadata": {},
   "outputs": [
    {
     "name": "stdout",
     "output_type": "stream",
     "text": [
      "['praveen', 'sandeep', 'shanmugam', 'ufhvebv']\n",
      "['praveen', 'sandeep', 15, 'ufhvebv']\n",
      "['praveen', 'sandeep', 15]\n",
      "['praveen', 'gitam', 15]\n",
      "['1', '2,', '3']\n",
      "['praveen', 'gitam', 15, '1', '2,', '3']\n"
     ]
    }
   ],
   "source": [
    "list1=['praveen','sandeep','shanmugam','ufhvebv'];\n",
    "print(list1);\n",
    "\n",
    "list1[2]=15;\n",
    "print(list1);\n",
    "\n",
    "del  list1[3];\n",
    "print(list1);\n",
    "\n",
    "list1[1]='gitam'\n",
    "print(list1)\n",
    "\n",
    "\n",
    "lst2=['1','2,','3']\n",
    "print(lst2)\n",
    "print(list1+lst2)"
   ]
  },
  {
   "cell_type": "code",
   "execution_count": 50,
   "metadata": {},
   "outputs": [
    {
     "name": "stdout",
     "output_type": "stream",
     "text": [
      "['praveen', 'sandeep', 'shanmugam', 'ufhvebv']\n",
      "['praveen', 'sandeep', 15, 'ufhvebv']\n",
      "['praveen', 'sandeep', 15]\n",
      "['praveen', 'gitam', 15]\n",
      "['1', '2,', '3']\n",
      "['praveen', 'gitam', 15, '1', '2,', '3']\n",
      "3\n",
      "['praveen', 'gitam', 15, 15]\n",
      "0\n",
      "0\n"
     ]
    }
   ],
   "source": [
    "list1=['praveen','sandeep','shanmugam','ufhvebv'];\n",
    "print(list1);\n",
    "\n",
    "list1[2]=15;\n",
    "print(list1);\n",
    "\n",
    "del  list1[3];\n",
    "print(list1);\n",
    "\n",
    "list1[1]='gitam'\n",
    "print(list1)\n",
    "\n",
    "\n",
    "lst2=['1','2,','3']\n",
    "print(lst2)\n",
    "print(list1+lst2)\n",
    "print(len(list1))\n",
    "list1.append(15);\n",
    "print(list1)\n",
    "print(list1.count(1))\n",
    "print(list1.count(3))"
   ]
  },
  {
   "cell_type": "raw",
   "metadata": {},
   "source": [
    "list1=['praveen','sandeep','shanmugam','ufhvebv'];\n",
    "print(list1);\n",
    "\n",
    "list1[2]=15;\n",
    "print(list1);\n",
    "\n",
    "del  list1[3];\n",
    "print(list1);\n",
    "\n",
    "list1[1]='gitam'\n",
    "print(list1)\n",
    "\n",
    "\n",
    "lst2=['1','2,','3']\n",
    "print(lst2)\n",
    "print(list1+lst2)\n",
    "print(len(list1))\n",
    "list1.append(15);\n",
    "print(list1)\n",
    "print(list1.count(1))\n",
    "print(list1.count(3))\n",
    "\n",
    "\n",
    "\n",
    "\n",
    "\n",
    "\n",
    "\n"
   ]
  },
  {
   "cell_type": "code",
   "execution_count": 52,
   "metadata": {},
   "outputs": [
    {
     "ename": "SyntaxError",
     "evalue": "invalid syntax (<ipython-input-52-d08ca6e5739a>, line 4)",
     "output_type": "error",
     "traceback": [
      "\u001b[0;36m  File \u001b[0;32m\"<ipython-input-52-d08ca6e5739a>\"\u001b[0;36m, line \u001b[0;32m4\u001b[0m\n\u001b[0;31m    if a[i]=b:\u001b[0m\n\u001b[0m           ^\u001b[0m\n\u001b[0;31mSyntaxError\u001b[0m\u001b[0;31m:\u001b[0m invalid syntax\n"
     ]
    }
   ],
   "source": [
    "def linearsearchduplicate(a,b):\n",
    "    flage=0\n",
    "for i in range(length(a)):\n",
    "    if a[i]=b:\n",
    "        flag=flag+1\n",
    "print(flag)\n",
    "\n",
    "a=[9,2,3,4,1,7,15,16]\n",
    "linearsearchduplicate(a,9)\n",
    "        "
   ]
  },
  {
   "cell_type": "code",
   "execution_count": 3,
   "metadata": {},
   "outputs": [
    {
     "name": "stdout",
     "output_type": "stream",
     "text": [
      "! !  ! ! ! ! !  ! ! ! ! ! ! ! !  "
     ]
    }
   ],
   "source": [
    "def linearexample2(a,b):\n",
    "     for i in range(len(a)):\n",
    "        if a[i] == b:\n",
    "            j=0\n",
    "            while j!=i+1:\n",
    "                print(\"!\",end=\" \")\n",
    "                j=j+1\n",
    "            print(end=\" \")\n",
    "        \n",
    "\n",
    "        \n",
    "        \n",
    "a=[1,5,9,6,5,15,12,5]\n",
    "linearexample2(a,5)      \n",
    "\n",
    "\n",
    "\n",
    "\n"
   ]
  },
  {
   "cell_type": "code",
   "execution_count": 10,
   "metadata": {},
   "outputs": [
    {
     "name": "stdout",
     "output_type": "stream",
     "text": [
      "60\n"
     ]
    }
   ],
   "source": [
    "def linearExample3(a):\n",
    "    sum=0;\n",
    "    for i in range(len(a)):\n",
    "        if a[i]%3==0 and a[i]%5==0:\n",
    "            sum = sum + a[i]\n",
    "            \n",
    "    return sum\n",
    "        \n",
    "a=[15,12,2,9,18,36,45]\n",
    "print(linearExample3(a))      \n",
    "\n",
    "      "
   ]
  },
  {
   "cell_type": "code",
   "execution_count": null,
   "metadata": {},
   "outputs": [],
   "source": []
  }
 ],
 "metadata": {
  "kernelspec": {
   "display_name": "Python 3",
   "language": "python",
   "name": "python3"
  },
  "language_info": {
   "codemirror_mode": {
    "name": "ipython",
    "version": 3
   },
   "file_extension": ".py",
   "mimetype": "text/x-python",
   "name": "python",
   "nbconvert_exporter": "python",
   "pygments_lexer": "ipython3",
   "version": "3.7.3"
  }
 },
 "nbformat": 4,
 "nbformat_minor": 2
}
